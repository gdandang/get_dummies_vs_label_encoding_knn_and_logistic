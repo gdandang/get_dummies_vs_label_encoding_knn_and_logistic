{
 "cells": [
  {
   "cell_type": "markdown",
   "metadata": {},
   "source": [
    "## Get dummies Vs Labelencoding - Deesert predicting case study"
   ]
  },
  {
   "cell_type": "code",
   "execution_count": 1,
   "metadata": {},
   "outputs": [],
   "source": [
    "import numpy as np\n",
    "import matplotlib.pyplot as plt\n",
    "import pandas as pd\n",
    "from sklearn.model_selection import train_test_split as split\n",
    "from sklearn.metrics import confusion_matrix, classification_report, accuracy_score\n",
    "from sklearn.linear_model import LogisticRegression\n",
    "from sklearn.datasets import load_iris\n",
    "from pandas.tools.plotting import scatter_matrix\n",
    "from mpl_toolkits.mplot3d import Axes3D\n",
    "import warnings\n",
    "from sklearn.metrics import confusion_matrix\n",
    "from sklearn.metrics import classification_report\n",
    "\n",
    "warnings.filterwarnings('ignore')\n",
    "%matplotlib inline"
   ]
  },
  {
   "cell_type": "code",
   "execution_count": 2,
   "metadata": {},
   "outputs": [],
   "source": [
    "df = pd.read_csv('dessert.csv')"
   ]
  },
  {
   "cell_type": "code",
   "execution_count": 3,
   "metadata": {},
   "outputs": [
    {
     "data": {
      "text/html": [
       "<div>\n",
       "<style scoped>\n",
       "    .dataframe tbody tr th:only-of-type {\n",
       "        vertical-align: middle;\n",
       "    }\n",
       "\n",
       "    .dataframe tbody tr th {\n",
       "        vertical-align: top;\n",
       "    }\n",
       "\n",
       "    .dataframe thead th {\n",
       "        text-align: right;\n",
       "    }\n",
       "</style>\n",
       "<table border=\"1\" class=\"dataframe\">\n",
       "  <thead>\n",
       "    <tr style=\"text-align: right;\">\n",
       "      <th></th>\n",
       "      <th>id</th>\n",
       "      <th>day.of.week</th>\n",
       "      <th>num.of.guests</th>\n",
       "      <th>hour</th>\n",
       "      <th>table</th>\n",
       "      <th>dessert</th>\n",
       "    </tr>\n",
       "  </thead>\n",
       "  <tbody>\n",
       "    <tr>\n",
       "      <th>0</th>\n",
       "      <td>1</td>\n",
       "      <td>Monday</td>\n",
       "      <td>2</td>\n",
       "      <td>evening</td>\n",
       "      <td>13</td>\n",
       "      <td>True</td>\n",
       "    </tr>\n",
       "    <tr>\n",
       "      <th>1</th>\n",
       "      <td>2</td>\n",
       "      <td>Saturday</td>\n",
       "      <td>4</td>\n",
       "      <td>night</td>\n",
       "      <td>19</td>\n",
       "      <td>True</td>\n",
       "    </tr>\n",
       "    <tr>\n",
       "      <th>2</th>\n",
       "      <td>3</td>\n",
       "      <td>Saturday</td>\n",
       "      <td>4</td>\n",
       "      <td>after-noon</td>\n",
       "      <td>12</td>\n",
       "      <td>False</td>\n",
       "    </tr>\n",
       "  </tbody>\n",
       "</table>\n",
       "</div>"
      ],
      "text/plain": [
       "   id day.of.week  num.of.guests        hour  table  dessert\n",
       "0   1      Monday              2     evening     13     True\n",
       "1   2    Saturday              4       night     19     True\n",
       "2   3    Saturday              4  after-noon     12    False"
      ]
     },
     "execution_count": 3,
     "metadata": {},
     "output_type": "execute_result"
    }
   ],
   "source": [
    "df.head(3)"
   ]
  },
  {
   "cell_type": "markdown",
   "metadata": {},
   "source": [
    "The dessert DB contains restaurant data regarding costumers basic info and column showing if a desert was ordered or not.\n",
    "The purpose of this code:\n",
    "1. is to predict if a table (row in the data) will order a dessert.\n",
    "2. to show the differences between Labelencoding and dummy variables"
   ]
  },
  {
   "cell_type": "code",
   "execution_count": 4,
   "metadata": {},
   "outputs": [
    {
     "name": "stdout",
     "output_type": "stream",
     "text": [
      "<class 'pandas.core.frame.DataFrame'>\n",
      "RangeIndex: 1000 entries, 0 to 999\n",
      "Data columns (total 6 columns):\n",
      "id               1000 non-null int64\n",
      "day.of.week      1000 non-null object\n",
      "num.of.guests    1000 non-null int64\n",
      "hour             1000 non-null object\n",
      "table            1000 non-null int64\n",
      "dessert          1000 non-null bool\n",
      "dtypes: bool(1), int64(3), object(2)\n",
      "memory usage: 40.1+ KB\n"
     ]
    }
   ],
   "source": [
    "df.info() # 6 columns with 3 int, 2 obj and 1 bool columns"
   ]
  },
  {
   "cell_type": "code",
   "execution_count": 5,
   "metadata": {},
   "outputs": [
    {
     "name": "stdout",
     "output_type": "stream",
     "text": [
      "\u001b[0;36;40mcategorical columns :\u001b[0m ['day.of.week', 'hour']\n"
     ]
    }
   ],
   "source": [
    "# creating list of categorical columns names\n",
    "is_cat_cols = (df.dtypes == object).compress(lambda x: x==True).index.values.tolist()\n",
    "#is_cat_cols.append('table')\n",
    "print('\\x1b[0;36;40m' + 'categorical columns :' + '\\x1b[0m' , is_cat_cols)\n"
   ]
  },
  {
   "cell_type": "code",
   "execution_count": 6,
   "metadata": {},
   "outputs": [],
   "source": [
    "# spliting data to data and target (removing unique id column 0)\n",
    "dessert_label_enc = df.copy()\n",
    "dessert_dummies = df.copy()"
   ]
  },
  {
   "cell_type": "markdown",
   "metadata": {},
   "source": [
    "## Labelencoding"
   ]
  },
  {
   "cell_type": "code",
   "execution_count": 7,
   "metadata": {},
   "outputs": [
    {
     "name": "stdout",
     "output_type": "stream",
     "text": [
      "<class 'pandas.core.frame.DataFrame'>\n",
      "RangeIndex: 1000 entries, 0 to 999\n",
      "Data columns (total 6 columns):\n",
      "id               1000 non-null int64\n",
      "day.of.week      1000 non-null int64\n",
      "num.of.guests    1000 non-null int64\n",
      "hour             1000 non-null int64\n",
      "table            1000 non-null int64\n",
      "dessert          1000 non-null bool\n",
      "dtypes: bool(1), int64(5)\n",
      "memory usage: 40.1 KB\n",
      "None    id  day.of.week  num.of.guests  hour  table  dessert\n",
      "0   1            1              2     1     13     True\n",
      "1   2            2              4     2     19     True\n",
      "2   3            2              4     0     12    False\n",
      "3   4            4              3     2      5     True\n",
      "4   5            1              7     3     10     True\n"
     ]
    }
   ],
   "source": [
    "from sklearn.preprocessing import MaxAbsScaler, LabelEncoder\n",
    "\n",
    "\n",
    "le = LabelEncoder()\n",
    "dessert_label_enc[is_cat_cols] = dessert_label_enc[is_cat_cols].apply(LabelEncoder().fit_transform)\n",
    "print(dessert_label_enc.info(),dessert_label_enc.head())\n"
   ]
  },
  {
   "cell_type": "code",
   "execution_count": 8,
   "metadata": {},
   "outputs": [],
   "source": [
    "dessert_label_enc_train, dessert_label_enc_test = split(dessert_label_enc, train_size=0.7, \n",
    "                              random_state=12345)\n",
    "\n",
    "X,y = dessert_label_enc_train.iloc[:,[1,2,3,4]] , dessert_label_enc_train.iloc[:,[-1]] "
   ]
  },
  {
   "cell_type": "code",
   "execution_count": 9,
   "metadata": {},
   "outputs": [],
   "source": [
    "dessert_label_enc_clf = LogisticRegression(random_state=0, solver='lbfgs',\n",
    "                         multi_class='multinomial').fit(X, y)"
   ]
  },
  {
   "cell_type": "code",
   "execution_count": 10,
   "metadata": {},
   "outputs": [
    {
     "data": {
      "text/html": [
       "<div>\n",
       "<style scoped>\n",
       "    .dataframe tbody tr th:only-of-type {\n",
       "        vertical-align: middle;\n",
       "    }\n",
       "\n",
       "    .dataframe tbody tr th {\n",
       "        vertical-align: top;\n",
       "    }\n",
       "\n",
       "    .dataframe thead th {\n",
       "        text-align: right;\n",
       "    }\n",
       "</style>\n",
       "<table border=\"1\" class=\"dataframe\">\n",
       "  <thead>\n",
       "    <tr style=\"text-align: right;\">\n",
       "      <th></th>\n",
       "      <th>id</th>\n",
       "      <th>day.of.week</th>\n",
       "      <th>num.of.guests</th>\n",
       "      <th>hour</th>\n",
       "      <th>table</th>\n",
       "      <th>dessert</th>\n",
       "      <th>prediction</th>\n",
       "    </tr>\n",
       "  </thead>\n",
       "  <tbody>\n",
       "    <tr>\n",
       "      <th>860</th>\n",
       "      <td>861</td>\n",
       "      <td>0</td>\n",
       "      <td>4</td>\n",
       "      <td>1</td>\n",
       "      <td>9</td>\n",
       "      <td>False</td>\n",
       "      <td>False</td>\n",
       "    </tr>\n",
       "    <tr>\n",
       "      <th>191</th>\n",
       "      <td>192</td>\n",
       "      <td>6</td>\n",
       "      <td>5</td>\n",
       "      <td>1</td>\n",
       "      <td>4</td>\n",
       "      <td>True</td>\n",
       "      <td>True</td>\n",
       "    </tr>\n",
       "    <tr>\n",
       "      <th>715</th>\n",
       "      <td>716</td>\n",
       "      <td>2</td>\n",
       "      <td>2</td>\n",
       "      <td>1</td>\n",
       "      <td>7</td>\n",
       "      <td>False</td>\n",
       "      <td>False</td>\n",
       "    </tr>\n",
       "    <tr>\n",
       "      <th>471</th>\n",
       "      <td>472</td>\n",
       "      <td>5</td>\n",
       "      <td>3</td>\n",
       "      <td>2</td>\n",
       "      <td>8</td>\n",
       "      <td>True</td>\n",
       "      <td>True</td>\n",
       "    </tr>\n",
       "    <tr>\n",
       "      <th>98</th>\n",
       "      <td>99</td>\n",
       "      <td>2</td>\n",
       "      <td>4</td>\n",
       "      <td>0</td>\n",
       "      <td>4</td>\n",
       "      <td>False</td>\n",
       "      <td>False</td>\n",
       "    </tr>\n",
       "    <tr>\n",
       "      <th>571</th>\n",
       "      <td>572</td>\n",
       "      <td>0</td>\n",
       "      <td>2</td>\n",
       "      <td>3</td>\n",
       "      <td>16</td>\n",
       "      <td>False</td>\n",
       "      <td>True</td>\n",
       "    </tr>\n",
       "    <tr>\n",
       "      <th>227</th>\n",
       "      <td>228</td>\n",
       "      <td>2</td>\n",
       "      <td>2</td>\n",
       "      <td>2</td>\n",
       "      <td>3</td>\n",
       "      <td>True</td>\n",
       "      <td>True</td>\n",
       "    </tr>\n",
       "  </tbody>\n",
       "</table>\n",
       "</div>"
      ],
      "text/plain": [
       "      id  day.of.week  num.of.guests  hour  table  dessert  prediction\n",
       "860  861            0              4     1      9    False       False\n",
       "191  192            6              5     1      4     True        True\n",
       "715  716            2              2     1      7    False       False\n",
       "471  472            5              3     2      8     True        True\n",
       "98    99            2              4     0      4    False       False\n",
       "571  572            0              2     3     16    False        True\n",
       "227  228            2              2     2      3     True        True"
      ]
     },
     "execution_count": 10,
     "metadata": {},
     "output_type": "execute_result"
    }
   ],
   "source": [
    "dessert_label_enc_train['prediction'] = dessert_label_enc_clf.predict(X)\n",
    "dessert_label_enc_train[::100]"
   ]
  },
  {
   "cell_type": "code",
   "execution_count": 11,
   "metadata": {},
   "outputs": [],
   "source": [
    "## Validation"
   ]
  },
  {
   "cell_type": "code",
   "execution_count": 12,
   "metadata": {},
   "outputs": [
    {
     "name": "stdout",
     "output_type": "stream",
     "text": [
      "       False  True \n",
      "False    165    125\n",
      "True      85    325\n",
      "       False  True \n",
      "False     74     63\n",
      "True      32    131\n"
     ]
    }
   ],
   "source": [
    "# train confusion matrix :\n",
    "cm = confusion_matrix(y_true=dessert_label_enc_train['dessert'],\n",
    "                      y_pred=dessert_label_enc_train['prediction'])\n",
    "print(pd.DataFrame(cm,\n",
    "             index=dessert_label_enc_clf.classes_,\n",
    "             columns=dessert_label_enc_clf.classes_))\n",
    "\n",
    "# test confusion matrix :\n",
    "P = dessert_label_enc_test.drop(['dessert','id'], axis=1)\n",
    "dessert_label_enc_test['prediction'] = dessert_label_enc_clf.predict(P)\n",
    "\n",
    "\n",
    "cm = confusion_matrix(y_true=dessert_label_enc_test['dessert'],\n",
    "                      y_pred=dessert_label_enc_test['prediction'])\n",
    "print(pd.DataFrame(cm,\n",
    "             index=dessert_label_enc_clf.classes_,\n",
    "             columns=dessert_label_enc_clf.classes_))\n",
    "\n"
   ]
  },
  {
   "cell_type": "markdown",
   "metadata": {},
   "source": [
    "## Get Dummies\n",
    "dessert_dummies - contains \"clean\" db\n",
    "\n",
    "is_cat_cols - contains the categories columns"
   ]
  },
  {
   "cell_type": "code",
   "execution_count": 14,
   "metadata": {},
   "outputs": [],
   "source": [
    "# getting dummies\n",
    "dummy_cols = pd.get_dummies(dessert_dummies[is_cat_cols])\n"
   ]
  },
  {
   "cell_type": "code",
   "execution_count": 15,
   "metadata": {},
   "outputs": [],
   "source": [
    "dessert_dummies = dessert_dummies[['num.of.guests','table']].join(dummy_cols.ix[::]).join(dessert_dummies['dessert'])"
   ]
  },
  {
   "cell_type": "code",
   "execution_count": 245,
   "metadata": {},
   "outputs": [
    {
     "data": {
      "text/html": [
       "<div>\n",
       "<style scoped>\n",
       "    .dataframe tbody tr th:only-of-type {\n",
       "        vertical-align: middle;\n",
       "    }\n",
       "\n",
       "    .dataframe tbody tr th {\n",
       "        vertical-align: top;\n",
       "    }\n",
       "\n",
       "    .dataframe thead th {\n",
       "        text-align: right;\n",
       "    }\n",
       "</style>\n",
       "<table border=\"1\" class=\"dataframe\">\n",
       "  <thead>\n",
       "    <tr style=\"text-align: right;\">\n",
       "      <th></th>\n",
       "      <th>num.of.guests</th>\n",
       "      <th>table</th>\n",
       "      <th>day.of.week_Friday</th>\n",
       "      <th>day.of.week_Monday</th>\n",
       "      <th>day.of.week_Saturday</th>\n",
       "      <th>day.of.week_Sunday</th>\n",
       "      <th>day.of.week_Thursday</th>\n",
       "      <th>day.of.week_Tuesday</th>\n",
       "      <th>day.of.week_Wednesday</th>\n",
       "      <th>hour_after-noon</th>\n",
       "      <th>hour_evening</th>\n",
       "      <th>hour_night</th>\n",
       "      <th>hour_noon</th>\n",
       "      <th>dessert</th>\n",
       "    </tr>\n",
       "  </thead>\n",
       "  <tbody>\n",
       "    <tr>\n",
       "      <th>0</th>\n",
       "      <td>2</td>\n",
       "      <td>13</td>\n",
       "      <td>0</td>\n",
       "      <td>1</td>\n",
       "      <td>0</td>\n",
       "      <td>0</td>\n",
       "      <td>0</td>\n",
       "      <td>0</td>\n",
       "      <td>0</td>\n",
       "      <td>0</td>\n",
       "      <td>1</td>\n",
       "      <td>0</td>\n",
       "      <td>0</td>\n",
       "      <td>True</td>\n",
       "    </tr>\n",
       "    <tr>\n",
       "      <th>1</th>\n",
       "      <td>4</td>\n",
       "      <td>19</td>\n",
       "      <td>0</td>\n",
       "      <td>0</td>\n",
       "      <td>1</td>\n",
       "      <td>0</td>\n",
       "      <td>0</td>\n",
       "      <td>0</td>\n",
       "      <td>0</td>\n",
       "      <td>0</td>\n",
       "      <td>0</td>\n",
       "      <td>1</td>\n",
       "      <td>0</td>\n",
       "      <td>True</td>\n",
       "    </tr>\n",
       "    <tr>\n",
       "      <th>2</th>\n",
       "      <td>4</td>\n",
       "      <td>12</td>\n",
       "      <td>0</td>\n",
       "      <td>0</td>\n",
       "      <td>1</td>\n",
       "      <td>0</td>\n",
       "      <td>0</td>\n",
       "      <td>0</td>\n",
       "      <td>0</td>\n",
       "      <td>1</td>\n",
       "      <td>0</td>\n",
       "      <td>0</td>\n",
       "      <td>0</td>\n",
       "      <td>False</td>\n",
       "    </tr>\n",
       "    <tr>\n",
       "      <th>3</th>\n",
       "      <td>3</td>\n",
       "      <td>5</td>\n",
       "      <td>0</td>\n",
       "      <td>0</td>\n",
       "      <td>0</td>\n",
       "      <td>0</td>\n",
       "      <td>1</td>\n",
       "      <td>0</td>\n",
       "      <td>0</td>\n",
       "      <td>0</td>\n",
       "      <td>0</td>\n",
       "      <td>1</td>\n",
       "      <td>0</td>\n",
       "      <td>True</td>\n",
       "    </tr>\n",
       "    <tr>\n",
       "      <th>4</th>\n",
       "      <td>7</td>\n",
       "      <td>10</td>\n",
       "      <td>0</td>\n",
       "      <td>1</td>\n",
       "      <td>0</td>\n",
       "      <td>0</td>\n",
       "      <td>0</td>\n",
       "      <td>0</td>\n",
       "      <td>0</td>\n",
       "      <td>0</td>\n",
       "      <td>0</td>\n",
       "      <td>0</td>\n",
       "      <td>1</td>\n",
       "      <td>True</td>\n",
       "    </tr>\n",
       "  </tbody>\n",
       "</table>\n",
       "</div>"
      ],
      "text/plain": [
       "   num.of.guests  table  day.of.week_Friday  day.of.week_Monday  \\\n",
       "0              2     13                   0                   1   \n",
       "1              4     19                   0                   0   \n",
       "2              4     12                   0                   0   \n",
       "3              3      5                   0                   0   \n",
       "4              7     10                   0                   1   \n",
       "\n",
       "   day.of.week_Saturday  day.of.week_Sunday  day.of.week_Thursday  \\\n",
       "0                     0                   0                     0   \n",
       "1                     1                   0                     0   \n",
       "2                     1                   0                     0   \n",
       "3                     0                   0                     1   \n",
       "4                     0                   0                     0   \n",
       "\n",
       "   day.of.week_Tuesday  day.of.week_Wednesday  hour_after-noon  hour_evening  \\\n",
       "0                    0                      0                0             1   \n",
       "1                    0                      0                0             0   \n",
       "2                    0                      0                1             0   \n",
       "3                    0                      0                0             0   \n",
       "4                    0                      0                0             0   \n",
       "\n",
       "   hour_night  hour_noon  dessert  \n",
       "0           0          0     True  \n",
       "1           1          0     True  \n",
       "2           0          0    False  \n",
       "3           1          0     True  \n",
       "4           0          1     True  "
      ]
     },
     "execution_count": 245,
     "metadata": {},
     "output_type": "execute_result"
    }
   ],
   "source": [
    "dessert_dummies.head()"
   ]
  },
  {
   "cell_type": "code",
   "execution_count": 30,
   "metadata": {},
   "outputs": [],
   "source": [
    "dessert_dummies_train, dessert_dummies_test = split(dessert_dummies, train_size=0.7, \n",
    "                              random_state=12345)\n",
    "\n",
    "X,y = dessert_dummies_train.drop('dessert',axis=1) , dessert_dummies_train.iloc[:,[-1]] "
   ]
  },
  {
   "cell_type": "code",
   "execution_count": 33,
   "metadata": {},
   "outputs": [],
   "source": [
    "dessert_dummies_clf = LogisticRegression(random_state=0, solver='lbfgs',\n",
    "                         multi_class='multinomial').fit(X, y)"
   ]
  },
  {
   "cell_type": "code",
   "execution_count": 34,
   "metadata": {},
   "outputs": [
    {
     "data": {
      "text/html": [
       "<div>\n",
       "<style scoped>\n",
       "    .dataframe tbody tr th:only-of-type {\n",
       "        vertical-align: middle;\n",
       "    }\n",
       "\n",
       "    .dataframe tbody tr th {\n",
       "        vertical-align: top;\n",
       "    }\n",
       "\n",
       "    .dataframe thead th {\n",
       "        text-align: right;\n",
       "    }\n",
       "</style>\n",
       "<table border=\"1\" class=\"dataframe\">\n",
       "  <thead>\n",
       "    <tr style=\"text-align: right;\">\n",
       "      <th></th>\n",
       "      <th>num.of.guests</th>\n",
       "      <th>table</th>\n",
       "      <th>day.of.week_Friday</th>\n",
       "      <th>day.of.week_Monday</th>\n",
       "      <th>day.of.week_Saturday</th>\n",
       "      <th>day.of.week_Sunday</th>\n",
       "      <th>day.of.week_Thursday</th>\n",
       "      <th>day.of.week_Tuesday</th>\n",
       "      <th>day.of.week_Wednesday</th>\n",
       "      <th>hour_after-noon</th>\n",
       "      <th>hour_evening</th>\n",
       "      <th>hour_night</th>\n",
       "      <th>hour_noon</th>\n",
       "      <th>dessert</th>\n",
       "      <th>prediction</th>\n",
       "    </tr>\n",
       "  </thead>\n",
       "  <tbody>\n",
       "    <tr>\n",
       "      <th>860</th>\n",
       "      <td>4</td>\n",
       "      <td>9</td>\n",
       "      <td>1</td>\n",
       "      <td>0</td>\n",
       "      <td>0</td>\n",
       "      <td>0</td>\n",
       "      <td>0</td>\n",
       "      <td>0</td>\n",
       "      <td>0</td>\n",
       "      <td>0</td>\n",
       "      <td>1</td>\n",
       "      <td>0</td>\n",
       "      <td>0</td>\n",
       "      <td>False</td>\n",
       "      <td>False</td>\n",
       "    </tr>\n",
       "    <tr>\n",
       "      <th>191</th>\n",
       "      <td>5</td>\n",
       "      <td>4</td>\n",
       "      <td>0</td>\n",
       "      <td>0</td>\n",
       "      <td>0</td>\n",
       "      <td>0</td>\n",
       "      <td>0</td>\n",
       "      <td>0</td>\n",
       "      <td>1</td>\n",
       "      <td>0</td>\n",
       "      <td>1</td>\n",
       "      <td>0</td>\n",
       "      <td>0</td>\n",
       "      <td>True</td>\n",
       "      <td>True</td>\n",
       "    </tr>\n",
       "    <tr>\n",
       "      <th>715</th>\n",
       "      <td>2</td>\n",
       "      <td>7</td>\n",
       "      <td>0</td>\n",
       "      <td>0</td>\n",
       "      <td>1</td>\n",
       "      <td>0</td>\n",
       "      <td>0</td>\n",
       "      <td>0</td>\n",
       "      <td>0</td>\n",
       "      <td>0</td>\n",
       "      <td>1</td>\n",
       "      <td>0</td>\n",
       "      <td>0</td>\n",
       "      <td>False</td>\n",
       "      <td>False</td>\n",
       "    </tr>\n",
       "    <tr>\n",
       "      <th>471</th>\n",
       "      <td>3</td>\n",
       "      <td>8</td>\n",
       "      <td>0</td>\n",
       "      <td>0</td>\n",
       "      <td>0</td>\n",
       "      <td>0</td>\n",
       "      <td>0</td>\n",
       "      <td>1</td>\n",
       "      <td>0</td>\n",
       "      <td>0</td>\n",
       "      <td>0</td>\n",
       "      <td>1</td>\n",
       "      <td>0</td>\n",
       "      <td>True</td>\n",
       "      <td>True</td>\n",
       "    </tr>\n",
       "    <tr>\n",
       "      <th>98</th>\n",
       "      <td>4</td>\n",
       "      <td>4</td>\n",
       "      <td>0</td>\n",
       "      <td>0</td>\n",
       "      <td>1</td>\n",
       "      <td>0</td>\n",
       "      <td>0</td>\n",
       "      <td>0</td>\n",
       "      <td>0</td>\n",
       "      <td>1</td>\n",
       "      <td>0</td>\n",
       "      <td>0</td>\n",
       "      <td>0</td>\n",
       "      <td>False</td>\n",
       "      <td>False</td>\n",
       "    </tr>\n",
       "    <tr>\n",
       "      <th>571</th>\n",
       "      <td>2</td>\n",
       "      <td>16</td>\n",
       "      <td>1</td>\n",
       "      <td>0</td>\n",
       "      <td>0</td>\n",
       "      <td>0</td>\n",
       "      <td>0</td>\n",
       "      <td>0</td>\n",
       "      <td>0</td>\n",
       "      <td>0</td>\n",
       "      <td>0</td>\n",
       "      <td>0</td>\n",
       "      <td>1</td>\n",
       "      <td>False</td>\n",
       "      <td>False</td>\n",
       "    </tr>\n",
       "    <tr>\n",
       "      <th>227</th>\n",
       "      <td>2</td>\n",
       "      <td>3</td>\n",
       "      <td>0</td>\n",
       "      <td>0</td>\n",
       "      <td>1</td>\n",
       "      <td>0</td>\n",
       "      <td>0</td>\n",
       "      <td>0</td>\n",
       "      <td>0</td>\n",
       "      <td>0</td>\n",
       "      <td>0</td>\n",
       "      <td>1</td>\n",
       "      <td>0</td>\n",
       "      <td>True</td>\n",
       "      <td>True</td>\n",
       "    </tr>\n",
       "  </tbody>\n",
       "</table>\n",
       "</div>"
      ],
      "text/plain": [
       "     num.of.guests  table  day.of.week_Friday  day.of.week_Monday  \\\n",
       "860              4      9                   1                   0   \n",
       "191              5      4                   0                   0   \n",
       "715              2      7                   0                   0   \n",
       "471              3      8                   0                   0   \n",
       "98               4      4                   0                   0   \n",
       "571              2     16                   1                   0   \n",
       "227              2      3                   0                   0   \n",
       "\n",
       "     day.of.week_Saturday  day.of.week_Sunday  day.of.week_Thursday  \\\n",
       "860                     0                   0                     0   \n",
       "191                     0                   0                     0   \n",
       "715                     1                   0                     0   \n",
       "471                     0                   0                     0   \n",
       "98                      1                   0                     0   \n",
       "571                     0                   0                     0   \n",
       "227                     1                   0                     0   \n",
       "\n",
       "     day.of.week_Tuesday  day.of.week_Wednesday  hour_after-noon  \\\n",
       "860                    0                      0                0   \n",
       "191                    0                      1                0   \n",
       "715                    0                      0                0   \n",
       "471                    1                      0                0   \n",
       "98                     0                      0                1   \n",
       "571                    0                      0                0   \n",
       "227                    0                      0                0   \n",
       "\n",
       "     hour_evening  hour_night  hour_noon  dessert  prediction  \n",
       "860             1           0          0    False       False  \n",
       "191             1           0          0     True        True  \n",
       "715             1           0          0    False       False  \n",
       "471             0           1          0     True        True  \n",
       "98              0           0          0    False       False  \n",
       "571             0           0          1    False       False  \n",
       "227             0           1          0     True        True  "
      ]
     },
     "execution_count": 34,
     "metadata": {},
     "output_type": "execute_result"
    }
   ],
   "source": [
    "dessert_dummies_train['prediction'] = dessert_dummies_clf.predict(X)\n",
    "dessert_dummies_train[::100]"
   ]
  },
  {
   "cell_type": "code",
   "execution_count": 36,
   "metadata": {},
   "outputs": [
    {
     "name": "stdout",
     "output_type": "stream",
     "text": [
      "       False  True \n",
      "False    159    131\n",
      "True      75    335\n",
      "       False  True \n",
      "False     71     66\n",
      "True      36    127\n"
     ]
    }
   ],
   "source": [
    "# train confusion matrix :\n",
    "cm = confusion_matrix(y_true=dessert_dummies_train['dessert'],\n",
    "                      y_pred=dessert_dummies_train['prediction'])\n",
    "print(pd.DataFrame(cm,\n",
    "             index=dessert_dummies_clf.classes_,\n",
    "             columns=dessert_dummies_clf.classes_))\n",
    "\n",
    "# test confusion matrix :\n",
    "P = dessert_dummies_test.drop(['dessert'], axis=1)\n",
    "dessert_dummies_test['prediction'] = dessert_dummies_clf.predict(P)\n",
    "\n",
    "\n",
    "cm = confusion_matrix(y_true=dessert_dummies_test['dessert'],\n",
    "                      y_pred=dessert_dummies_test['prediction'])\n",
    "print(pd.DataFrame(cm,\n",
    "             index=dessert_dummies_clf.classes_,\n",
    "             columns=dessert_dummies_clf.classes_))"
   ]
  },
  {
   "cell_type": "markdown",
   "metadata": {},
   "source": [
    "## Comparing between get dummies and label encoding"
   ]
  },
  {
   "cell_type": "code",
   "execution_count": 44,
   "metadata": {},
   "outputs": [
    {
     "name": "stdout",
     "output_type": "stream",
     "text": [
      "\u001b[0;36;40mGet dummies model values :\u001b[0m\n",
      "             precision    recall  f1-score   support\n",
      "\n",
      "      False       0.66      0.52      0.58       137\n",
      "       True       0.66      0.78      0.71       163\n",
      "\n",
      "avg / total       0.66      0.66      0.65       300\n",
      "\n",
      "\u001b[0;36;40mLabel encoding model values :\u001b[0m\n",
      "             precision    recall  f1-score   support\n",
      "\n",
      "      False       0.70      0.54      0.61       137\n",
      "       True       0.68      0.80      0.73       163\n",
      "\n",
      "avg / total       0.69      0.68      0.68       300\n",
      "\n",
      "\u001b[7;49;93mIt seems like for this specific dataset Label encoding performed better than get dummies categorical columns handling technique\u001b[0m\n"
     ]
    }
   ],
   "source": [
    "print('\\x1b[0;36;40m' + 'Get dummies model values :' + '\\x1b[0m' )\n",
    "print (classification_report(y_true=dessert_dummies_test['dessert'],\n",
    "                            y_pred=dessert_dummies_test['prediction']))\n",
    "\n",
    "print('\\x1b[0;36;40m' + 'Label encoding model values :' + '\\x1b[0m' )\n",
    "print (classification_report(y_true=dessert_label_enc_test['dessert'],\n",
    "                            y_pred=dessert_label_enc_test['prediction']))\n",
    "\n",
    "print('\\x1b[7;49;93m' + 'It seems like for this specific dataset Label encoding performed better than get dummies categorical columns handling technique' + '\\x1b[0m' )\n"
   ]
  },
  {
   "cell_type": "markdown",
   "metadata": {},
   "source": [
    "## Checking the KNN model with label encoding technique"
   ]
  },
  {
   "cell_type": "code",
   "execution_count": 110,
   "metadata": {},
   "outputs": [
    {
     "data": {
      "text/plain": [
       "KNeighborsClassifier(algorithm='auto', leaf_size=30, metric='minkowski',\n",
       "           metric_params=None, n_jobs=1, n_neighbors=10, p=2,\n",
       "           weights='uniform')"
      ]
     },
     "execution_count": 110,
     "metadata": {},
     "output_type": "execute_result"
    }
   ],
   "source": [
    "from sklearn.neighbors import KNeighborsClassifier\n",
    "\n",
    "dessert_label_enc_train, dessert_label_enc_test = split(dessert_label_enc, train_size=0.7, \n",
    "                              random_state=12345)\n",
    "\n",
    "\n",
    "X,y = dessert_label_enc_train.iloc[:,[1,2,3,4]] , dessert_label_enc_train.iloc[:,[-1]] \n",
    "\n",
    "\n",
    "k = 10\n",
    "knn_clf = KNeighborsClassifier(n_neighbors=k)\n",
    "knn_clf.fit(X, y)"
   ]
  },
  {
   "cell_type": "code",
   "execution_count": 111,
   "metadata": {},
   "outputs": [],
   "source": [
    "dessert_dummies_train['prediction'] = knn_clf.predict(X)\n"
   ]
  },
  {
   "cell_type": "code",
   "execution_count": 112,
   "metadata": {},
   "outputs": [
    {
     "name": "stdout",
     "output_type": "stream",
     "text": [
      "       False  True \n",
      "False     82     55\n",
      "True      37    126\n",
      "\u001b[0;36;40mKNN Label encoding model values :\u001b[0m\n",
      "             precision    recall  f1-score   support\n",
      "\n",
      "      False       0.69      0.60      0.64       137\n",
      "       True       0.70      0.77      0.73       163\n",
      "\n",
      "avg / total       0.69      0.69      0.69       300\n",
      "\n"
     ]
    }
   ],
   "source": [
    "M = dessert_label_enc_test.drop(['dessert','id'], axis=1)\n",
    "dessert_label_enc_test['prediction'] = knn_clf.predict(M)\n",
    "\n",
    "\n",
    "cm = confusion_matrix(y_true=dessert_label_enc_test['dessert'],\n",
    "                      y_pred=dessert_label_enc_test['prediction'])\n",
    "print(pd.DataFrame(cm,\n",
    "             index=knn_clf.classes_,\n",
    "             columns=knn_clf.classes_))\n",
    "\n",
    "print('\\x1b[0;36;40m' + 'KNN Label encoding model values :' + '\\x1b[0m' )\n",
    "print (classification_report(y_true=dessert_label_enc_test['dessert'],\n",
    "                            y_pred=dessert_label_enc_test['prediction']))"
   ]
  },
  {
   "cell_type": "code",
   "execution_count": null,
   "metadata": {},
   "outputs": [],
   "source": []
  }
 ],
 "metadata": {
  "kernelspec": {
   "display_name": "Python 3",
   "language": "python",
   "name": "python3"
  },
  "language_info": {
   "codemirror_mode": {
    "name": "ipython",
    "version": 3
   },
   "file_extension": ".py",
   "mimetype": "text/x-python",
   "name": "python",
   "nbconvert_exporter": "python",
   "pygments_lexer": "ipython3",
   "version": "3.6.4"
  }
 },
 "nbformat": 4,
 "nbformat_minor": 2
}
